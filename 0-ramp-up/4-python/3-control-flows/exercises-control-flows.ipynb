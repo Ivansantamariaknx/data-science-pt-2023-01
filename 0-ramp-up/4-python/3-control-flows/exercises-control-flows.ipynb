{
 "cells": [
  {
   "cell_type": "markdown",
   "metadata": {},
   "source": [
    "![imagen](./img/ejercicios.png)"
   ]
  },
  {
   "cell_type": "markdown",
   "metadata": {},
   "source": [
    "# Ejercicios Flujos de control"
   ]
  },
  {
   "cell_type": "markdown",
   "metadata": {},
   "source": [
    "## Ejercicio 1\n",
    "Declara una variable numérica que será una hora cualquiera del día. Implementa mediante sentencias `if/elif/else` la siguiente casuística:\n",
    "\n",
    "* Si es entre las 0 y las 8, print \"Durmiendo\"\n",
    "* Si es entre las 9 y las 18, print \"Trabajando\"\n",
    "* Si es entre las 19 y las 21, print \"Clase\"\n",
    "* Si es entre las 22 y las 24, print \"Descanso\"\n",
    "* En cualquier otro caso, print \"Transporte o error\""
   ]
  },
  {
   "cell_type": "code",
   "execution_count": 5,
   "metadata": {},
   "outputs": [
    {
     "ename": "ValueError",
     "evalue": "could not convert string to float: 'Rojo'",
     "output_type": "error",
     "traceback": [
      "\u001b[1;31m---------------------------------------------------------------------------\u001b[0m",
      "\u001b[1;31mValueError\u001b[0m                                Traceback (most recent call last)",
      "\u001b[1;32m~\\AppData\\Local\\Temp\\ipykernel_17388\\404184517.py\u001b[0m in \u001b[0;36m<module>\u001b[1;34m\u001b[0m\n\u001b[1;32m----> 1\u001b[1;33m \u001b[0mhora\u001b[0m\u001b[1;33m=\u001b[0m\u001b[0mfloat\u001b[0m\u001b[1;33m(\u001b[0m\u001b[0minput\u001b[0m\u001b[1;33m(\u001b[0m\u001b[1;33m)\u001b[0m\u001b[1;33m)\u001b[0m\u001b[1;33m\u001b[0m\u001b[1;33m\u001b[0m\u001b[0m\n\u001b[0m\u001b[0;32m      2\u001b[0m \u001b[0mestado\u001b[0m\u001b[1;33m=\u001b[0m\u001b[1;33m[\u001b[0m\u001b[1;33m]\u001b[0m\u001b[1;33m\u001b[0m\u001b[1;33m\u001b[0m\u001b[0m\n\u001b[0;32m      3\u001b[0m \u001b[1;32mif\u001b[0m \u001b[0mhora\u001b[0m\u001b[1;33m>=\u001b[0m\u001b[1;36m0\u001b[0m \u001b[1;32mand\u001b[0m \u001b[0mhora\u001b[0m\u001b[1;33m<=\u001b[0m\u001b[1;36m9\u001b[0m\u001b[1;33m:\u001b[0m\u001b[1;33m\u001b[0m\u001b[1;33m\u001b[0m\u001b[0m\n\u001b[0;32m      4\u001b[0m     \u001b[0mestado\u001b[0m\u001b[1;33m=\u001b[0m\u001b[1;34m\"durmiendo\"\u001b[0m\u001b[1;33m\u001b[0m\u001b[1;33m\u001b[0m\u001b[0m\n\u001b[0;32m      5\u001b[0m \u001b[1;32melif\u001b[0m \u001b[0mhora\u001b[0m\u001b[1;33m>=\u001b[0m\u001b[1;36m9\u001b[0m \u001b[1;32mand\u001b[0m \u001b[0mhora\u001b[0m\u001b[1;33m<=\u001b[0m\u001b[1;36m18\u001b[0m\u001b[1;33m:\u001b[0m\u001b[1;33m\u001b[0m\u001b[1;33m\u001b[0m\u001b[0m\n",
      "\u001b[1;31mValueError\u001b[0m: could not convert string to float: 'Rojo'"
     ]
    }
   ],
   "source": [
    "hora=float(input())\n",
    "estado=[]\n",
    "if hora>=0 and hora<=9:\n",
    "    estado=\"durmiendo\"\n",
    "elif hora>=9 and hora<=18:\n",
    "    estado=\"trabajando\"\n",
    "elif hora>=19 and hora<=24:\n",
    "    estado=\"descanso\"\n",
    "print(f(\"ahora mismo estoy {descanso}\"))"
   ]
  },
  {
   "cell_type": "markdown",
   "metadata": {},
   "source": [
    "## Ejercicio 2\n",
    "En este ejercicio vamos a implementar un calculador de precios de casas muy sencillo. Tenemos las siguientes variables:\n",
    "\n",
    "> superficie\n",
    ">\n",
    "> distrito\n",
    "\n",
    "Implementa mediante sentencias `if/elif/else` la siguiente casuística:\n",
    "\n",
    "1. Si el distrito es \"Moncloa\" o \"Centro\", y además la superficie es superior a 100 metros cuadrados, el precio de la casa es de 1000\n",
    "2. Si el distrito es \"Salamanca\", y además la superficie de la casa es al menos de 150 metros, el precio de la casa es de 1500\n",
    "3. Si el distrito no es \"Retiro\" y la superficie está entre 60 y 80 metros, el precio es de 600\n",
    "4. En cualquier otro caso, el precio será de 0"
   ]
  },
  {
   "cell_type": "code",
   "execution_count": null,
   "metadata": {},
   "outputs": [
    {
     "ename": "SyntaxError",
     "evalue": "invalid syntax (197111963.py, line 10)",
     "output_type": "error",
     "traceback": [
      "\u001b[1;36m  File \u001b[1;32m\"C:\\Users\\Abraham\\AppData\\Local\\Temp\\ipykernel_11036\\197111963.py\"\u001b[1;36m, line \u001b[1;32m10\u001b[0m\n\u001b[1;33m    elif\u001b[0m\n\u001b[1;37m        ^\u001b[0m\n\u001b[1;31mSyntaxError\u001b[0m\u001b[1;31m:\u001b[0m invalid syntax\n"
     ]
    }
   ],
   "source": [
    "superficie=int(input())\n",
    "distrito=input()\n",
    "precio=[]\n",
    "if (distrito==\"Moncloa\" and superficie>100) or (distrito==\"Centro\" and superficie>100):\n",
    "    precio=1000\n",
    "elif distrito==\"Salamanca\" and superficie>=150:\n",
    "    precio=1500\n",
    "elif distrito!=\"Retiro\" and (superficie>60 and superficie<80):\n",
    "    precio=600\n",
    "else:   \n",
    "    precio=0\n",
    "print(f\"el precio de la vivienda es {precio}\")\n",
    "\n"
   ]
  },
  {
   "cell_type": "markdown",
   "metadata": {},
   "source": [
    "## Ejercicio 3\n",
    "En este ejercicio vamos a realizar un programa muy parecido. Para este caso queremos que se cumplan las siguientes condiciones:\n",
    "\n",
    "1. Primero se compruebe si el distrito es \"Retiro\". Si es asi, que imprima \"Distrito Retiro\", y si no, \"Otro distrito\"\n",
    "2. Si el distrito es \"Retiro\", comprueba si si la superficie es mayor de 100 metros cuadrados. En tal caso que imprima un precio de 1000, y si no, de 500.\n",
    "\n",
    "Hay que usar `ifs` anidados"
   ]
  },
  {
   "cell_type": "code",
   "execution_count": null,
   "metadata": {},
   "outputs": [],
   "source": []
  },
  {
   "cell_type": "markdown",
   "metadata": {},
   "source": [
    "## Ejercicio 4\n",
    "Escribe un programa que tenga dos variables: un numero, y una lista numérica. El programa debe recorrer la lista e imprimir por pantalla cada elemento de la lista multiplicado por el número"
   ]
  },
  {
   "cell_type": "code",
   "execution_count": null,
   "metadata": {},
   "outputs": [
    {
     "name": "stdout",
     "output_type": "stream",
     "text": [
      "2\n",
      "4\n",
      "6\n",
      "8\n"
     ]
    }
   ],
   "source": [
    "y=2\n",
    "z=(1,2,3,4)\n",
    "for x in z:\n",
    "    print(x*y)\n"
   ]
  },
  {
   "cell_type": "markdown",
   "metadata": {},
   "source": [
    "## Ejercicio 5\n",
    "Imprime por pantalla los números -10 al -1. En ese orden. Consulta [la documentación](https://www.w3schools.com/python/ref_func_range.asp) de `range`"
   ]
  },
  {
   "cell_type": "code",
   "execution_count": null,
   "metadata": {},
   "outputs": [
    {
     "ename": "IndentationError",
     "evalue": "unexpected indent (3492081182.py, line 5)",
     "output_type": "error",
     "traceback": [
      "\u001b[1;36m  File \u001b[1;32m\"C:\\Users\\Abraham\\AppData\\Local\\Temp\\ipykernel_11036\\3492081182.py\"\u001b[1;36m, line \u001b[1;32m5\u001b[0m\n\u001b[1;33m    print(x)\u001b[0m\n\u001b[1;37m    ^\u001b[0m\n\u001b[1;31mIndentationError\u001b[0m\u001b[1;31m:\u001b[0m unexpected indent\n"
     ]
    }
   ],
   "source": [
    "x = range(-10,0)\n",
    "for n in x:\n",
    "  print(n)"
   ]
  },
  {
   "cell_type": "markdown",
   "metadata": {},
   "source": [
    "## Ejercicio 6\n",
    "Dada la siguiente lista:\n",
    "\n",
    "> list1 = [12, 15, 32, 42, 55, 75, 122, 132, 150, 180, 200]\n",
    "\n",
    "Implementa un programa que los recorra e imprima por pantalla todos los divisibles por 5. Si nos encontramos con alguno que sea mayor que 150, detener el bucle."
   ]
  },
  {
   "cell_type": "code",
   "execution_count": null,
   "metadata": {},
   "outputs": [],
   "source": [
    "list1 = [12, 15, 32, 42, 55, 75, 122, 132, 150, 180, 200]\n",
    "for x in list1:\n",
    "      if x%5==0:\n",
    "          if x>150:\n",
    "           break\n",
    "          print(x)"
   ]
  },
  {
   "cell_type": "markdown",
   "metadata": {},
   "source": [
    "## Ejercicio 7\n",
    "Escribe un programa en Python que imprima por pantalla todos los números divisibles por 5 y divisibles por 7, dentro del rango de valores (150, 350)"
   ]
  },
  {
   "cell_type": "code",
   "execution_count": null,
   "metadata": {},
   "outputs": [],
   "source": [
    "list=range(149, 351)\n",
    "for x in list:\n",
    " if x%5==0 and x%7==0:\n",
    "    print(x)"
   ]
  },
  {
   "cell_type": "markdown",
   "metadata": {},
   "source": [
    "## Ejercicio 8\n",
    "Implementa un programa que imprima por pantalla el siguiente patrón\n",
    "\n",
    "5 4 3 2 1 \n",
    "\n",
    "4 3 2 1 \n",
    "\n",
    "3 2 1 \n",
    "\n",
    "2 1 \n",
    "\n",
    "1\n",
    "\n",
    "NOTA: NO hay lineas en blanco entre una línea y otra."
   ]
  },
  {
   "cell_type": "code",
   "execution_count": null,
   "metadata": {},
   "outputs": [],
   "source": [
    "list(range(6,1))"
   ]
  },
  {
   "cell_type": "markdown",
   "metadata": {},
   "source": [
    "## Ejercicio 9\n",
    "En este ejercicio vamos a crear un pequeño juego. Se trata de intentar adivinar un numero del 1 al 5. Tenemos dos intentos para acertar. Pasos a seguir:\n",
    "\n",
    "1. Ya viene implementado cómo obtener un número aleatorio del 1 al 5\n",
    "2. Tendrás que declarar en una variable el numero de vidas, y mediante un bucle while, comprobar que todavia quedan vidas.\n",
    "3. Dentro del bucle, obtener el valor del usuario y comprobar si es ese el numero a adivinar. Si no, actualizar las vidas.\n",
    "4. Si acertamos, salimos del bucle e imprimimos por pantalla \"You win\". Y si perdemos también salimos del bucle, pero en este caso imprimimos por pantalla \"You lose\".\n",
    "\n",
    "TIP: te puede resultar útil usar la sentencia `else` cuando acabe el bucle `while`. Lo que haya dentro de ese `else` se ejecutará una vez acabe la ejecución del `while`. Lo podrás usar para cuando pierdas."
   ]
  },
  {
   "cell_type": "code",
   "execution_count": 13,
   "metadata": {},
   "outputs": [
    {
     "name": "stdout",
     "output_type": "stream",
     "text": [
      "3\n",
      "Congratulations you win. Vidas que te quedan:1\n"
     ]
    }
   ],
   "source": [
    "from random import randint\n",
    "\n",
    "# Genera un numero aleatorio del 1 al 5\n",
    "random_number = randint(1, 5)\n",
    "numero=int(input())\n",
    "vidas=2\n",
    "vidaspendientes=vidas\n",
    "\n",
    "\n",
    "\n",
    "# Genera un numero aleatorio del 1 al 5\n",
    "\n",
    "\n",
    "print(random_number)\n",
    "if numero==random_number:\n",
    "    vidaspendientes=vidas-0\n",
    "    print(f\"Congratulations you win. Vidas que te quedan:{vidaspendientes}\")\n",
    "else:\n",
    "    vidaspendientes=vidas-1\n",
    "    numero2=int(input())\n",
    "    if vidaspendientes>0 and numero2==random_number:\n",
    "        print(f\"Congratulations you win. Vidas que te quedan:{vidaspendientes}\") \n",
    "    else:\n",
    "         vidaspendientes=vidas-2\n",
    "         numero3=int(input())\n",
    "         if vidaspendientes>=0 and numero3==random_number:\n",
    "             print(f\"Congratulations you win. Vidas que te quedan:{vidaspendientes}\")\n",
    "         else:\n",
    "              print(f\"You lost bro. Vidas que te quedan:{vidaspendientes}\")  "
   ]
  },
  {
   "cell_type": "code",
   "execution_count": 14,
   "metadata": {},
   "outputs": [
    {
     "name": "stdout",
     "output_type": "stream",
     "text": [
      "Tu Pokemon es \n",
      "El Pokemon de tu rival es []\n",
      "-  dice: ¿A dónde vas, 4? ¡Vamos a probar nuestros Pokemon!\n",
      "Qué ataque debe realizar,\n"
     ]
    }
   ],
   "source": [
    "tunombre=input(\"Escoge tu nombre de entrenador\")\n",
    "rivalnombre=input(\"Escoge el nombre de tu rival\")\n",
    "pokeentrenador=input(\"Escoge un pokemon inicial\")\n",
    "pokerival=[]\n",
    "hpb=100\n",
    "hpbc=100\n",
    "hpbs=100\n",
    "arañazo=20\n",
    "placaje=15\n",
    "hprestantetupoke=[]\n",
    "hprestantepokerival=[]\n",
    "\n",
    "\n",
    "if pokeentrenador==\"Bulbasaur\" or pokeentrenador==\"bulbasaur\":\n",
    "    pokerival=\"Charmander\"\n",
    "    print(\"-Oak dice: Te gustan las cosas fáciles...\")\n",
    "    print(f\"-Azul dice:¿{pokeentrenador} eh? En ese caso yo elijo a {pokerival}\")\n",
    "elif pokeentrenador==\"Charmander\" or pokeentrenador==\"charmander\":\n",
    "    pokerival=\"Squirtle\"\n",
    "    print(\"-Oak dice: Estupenda elección, te gustan los retos\")\n",
    "    print(f\"-Azul dice:{pokeentrenador}, ¿eh? En ese caso yo elijo a {pokerival}\")\n",
    "elif pokeentrenador==\"Squirtle\" or pokeentrenador==\"squirtle\":\n",
    "    pokerival=\"Bulbasaur\"\n",
    "    print(\"-Oak dice:La tortuguita te ayudará mucho en tu aventura\")\n",
    "    print(f\"-Azul dice:{pokeentrenador} eh? En ese caso yo elijo a {pokerival}\")\n",
    "    \n",
    "print(f\"Tu Pokemon es {pokeentrenador}\")\n",
    "print(f\"El Pokemon de tu rival es {pokerival}\")\n",
    "print(f\"-{rivalnombre}  dice: ¿A dónde vas, {tunombre}? ¡Vamos a probar nuestros Pokemon!\")\n",
    "\n",
    "print(f\"Qué ataque debe realizar,{pokeentrenador}\")\n",
    "ataquepokeentrenador=input(\"Escoge el ataque\")\n"
   ]
  },
  {
   "cell_type": "markdown",
   "metadata": {},
   "source": [
    "## Ejercicios extra"
   ]
  },
  {
   "cell_type": "markdown",
   "metadata": {},
   "source": [
    "Más ejercicios en [este link](https://www.w3resource.com/python-exercises/python-conditional-statements-and-loop-exercises.php)\n",
    "\n",
    "Y [aquí](https://erlerobotics.gitbooks.io/erle-robotics-learning-python-gitbook-free/loops/exercises_loops.html)"
   ]
  }
 ],
 "metadata": {
  "kernelspec": {
   "display_name": "Python 3",
   "language": "python",
   "name": "python3"
  },
  "language_info": {
   "codemirror_mode": {
    "name": "ipython",
    "version": 3
   },
   "file_extension": ".py",
   "mimetype": "text/x-python",
   "name": "python",
   "nbconvert_exporter": "python",
   "pygments_lexer": "ipython3",
   "version": "3.7.4"
  },
  "vscode": {
   "interpreter": {
    "hash": "ff2d34205aa0849cd3b139157d5140cc644c0bcb46004f4f01e887e021367b2a"
   }
  }
 },
 "nbformat": 4,
 "nbformat_minor": 4
}
