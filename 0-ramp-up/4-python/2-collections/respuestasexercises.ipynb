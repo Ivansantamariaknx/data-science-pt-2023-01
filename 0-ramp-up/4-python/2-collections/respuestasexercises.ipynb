{
 "cells": [
  {
   "cell_type": "code",
   "execution_count": 59,
   "metadata": {},
   "outputs": [
    {
     "name": "stdout",
     "output_type": "stream",
     "text": [
      "[5, 4, 3, 2, 1]\n"
     ]
    }
   ],
   "source": [
    "#> ```ejer_1 = [1,2,3,4,5]```\n",
    "ejer_1 = [1,2,3,4,5]\n",
    "ejer_1.reverse()\n",
    "print(ejer_1)"
   ]
  },
  {
   "cell_type": "code",
   "execution_count": 60,
   "metadata": {},
   "outputs": [
    {
     "ename": "SyntaxError",
     "evalue": "unexpected EOF while parsing (3524108781.py, line 6)",
     "output_type": "error",
     "traceback": [
      "\u001b[1;36m  File \u001b[1;32m\"C:\\Users\\Abraham\\AppData\\Local\\Temp\\ipykernel_11564\\3524108781.py\"\u001b[1;36m, line \u001b[1;32m6\u001b[0m\n\u001b[1;33m    \u001b[0m\n\u001b[1;37m    ^\u001b[0m\n\u001b[1;31mSyntaxError\u001b[0m\u001b[1;31m:\u001b[0m unexpected EOF while parsing\n"
     ]
    }
   ],
   "source": [
    "## Ejercicio 2\n",
    "#Eleva todos los elementos de la lista al cuadrado\n",
    "#> ```ejer_2 = [1,2,3,4,5]```\n",
    "ejer_2 = [1,2,3,4,5]\n",
    "for i in ejer_2:\n",
    "    "
   ]
  },
  {
   "cell_type": "code",
   "execution_count": null,
   "metadata": {},
   "outputs": [
    {
     "name": "stdout",
     "output_type": "stream",
     "text": [
      "Hola Que Hola tal amigo Que amigo tal\n",
      "['Hola Que']\n",
      "['Hola Que', 'Hola tal']\n",
      "['Hola Que', 'Hola tal', 'amigo Que']\n",
      "['Hola Que', 'Hola tal', 'amigo Que', 'amigo tal']\n",
      "['Hola Que', 'Hola tal', 'amigo Que', 'amigo tal', 'Que Que']\n",
      "['Hola Que', 'Hola tal', 'amigo Que', 'amigo tal', 'Que Que', 'Que tal']\n",
      "['Hola Que', 'Hola tal', 'amigo Que', 'amigo tal', 'Que Que', 'Que tal', 'tal Que']\n",
      "['Hola Que', 'Hola tal', 'amigo Que', 'amigo tal', 'Que Que', 'Que tal', 'tal Que', 'tal tal']\n"
     ]
    }
   ],
   "source": [
    "### Ejercicio 3\n",
    "# Crea una lista nueva con todas las combinaciones de las siguientes dos listas:\n",
    "# > ```ejer_3_1 = [\"Hola\", \"amigo\"]```\n",
    "# >\n",
    "# > ```ejer_3_2 = [\"Que\", \"tal\"]```\n",
    "\n",
    "# Obten el siguiente output:\n",
    "\n",
    "# ['Hola Que', 'Hola tal', 'amigo Que', 'amigo tal']\n",
    "\n",
    "ejer_3_1 = [\"Hola\", \"amigo\"]\n",
    "ejer_3_2 = [\"Que\", \"tal\"]\n",
    "ejer_3_1.extend(ejer_3_2)\n",
    "\n",
    "\n",
    "ejer_3_3=ejer_3_1[0] +\" \" + ejer_3_2 [0]\n",
    "ejer_3_4=ejer_3_1[0] +\" \" + ejer_3_2 [1]\n",
    "ejer_3_5=ejer_3_1[1] +\" \" + ejer_3_2 [0]\n",
    "ejer_3_6=ejer_3_1[1] +\" \" + ejer_3_2 [1]\n",
    "print (ejer_3_3, ejer_3_4, ejer_3_5,ejer_3_6)\n",
    "\n",
    "\n",
    "#alternativa:\n",
    "ejer_3_tot=[]\n",
    "for i in ejer_3_1:\n",
    " for j in ejer_3_2:\n",
    "\n",
    "    ejer_3_tot.append(i+\" \"+j)\n",
    "    print (ejer_3_tot)"
   ]
  },
  {
   "cell_type": "code",
   "execution_count": null,
   "metadata": {},
   "outputs": [
    {
     "name": "stdout",
     "output_type": "stream",
     "text": [
      "[20, 47, 19, 29, 0, 67, 78, 90]\n"
     ]
    }
   ],
   "source": [
    "## Ejercicio 4\n",
    "#Dada la siguiente lista, encuentra el índice del valor 45 y sustitúyelo por el 0\n",
    "#> ```ejer_4 = [20, 47, 19, 29, 45, 67, 78, 90]```\n",
    "ejer_4 = [20, 47, 19, 29, 45, 67, 78, 90]\n",
    "indice=ejer_4.index(45)\n",
    "ejer_4[indice]=0\n",
    "print(ejer_4)"
   ]
  },
  {
   "cell_type": "code",
   "execution_count": 66,
   "metadata": {},
   "outputs": [
    {
     "ename": "SyntaxError",
     "evalue": "invalid syntax (774201057.py, line 9)",
     "output_type": "error",
     "traceback": [
      "\u001b[1;36m  File \u001b[1;32m\"C:\\Users\\Abraham\\AppData\\Local\\Temp\\ipykernel_11564\\774201057.py\"\u001b[1;36m, line \u001b[1;32m9\u001b[0m\n\u001b[1;33m    ejer_5.del(3)\u001b[0m\n\u001b[1;37m             ^\u001b[0m\n\u001b[1;31mSyntaxError\u001b[0m\u001b[1;31m:\u001b[0m invalid syntax\n"
     ]
    }
   ],
   "source": [
    "## Ejercicio 5\n",
    "#Dada la siguiente lista, elimina todos los valores iguales a 3\n",
    "#> ```ejer_5 = [3, 20, 3, 47, 19, 3, 29, 45, 67, 78, 90, 3, 3]```\n",
    "\n",
    "#TIP: No intentes eliminar elementos sobre la lista que estás iterando. Haz una copia con `ejer_5.copy()`.\n",
    "ejer_5 = [3, 20, 3, 47, 19, 3, 29, 45, 67, 78, 90, 3, 3]\n",
    "for i in ejer_5:\n",
    "    if i==3:\n",
    "        ejer_5.remove(3)\n",
    "        print(ejer_5)\n",
    "print(ejer_5)"
   ]
  },
  {
   "cell_type": "code",
   "execution_count": 67,
   "metadata": {},
   "outputs": [
    {
     "name": "stdout",
     "output_type": "stream",
     "text": [
      "el tipo de  la tupla 2 es <class 'float'>\n",
      "patata\n",
      "coche marron\n"
     ]
    },
    {
     "ename": "TypeError",
     "evalue": "can only concatenate tuple (not \"float\") to tuple",
     "output_type": "error",
     "traceback": [
      "\u001b[1;31m---------------------------------------------------------------------------\u001b[0m",
      "\u001b[1;31mTypeError\u001b[0m                                 Traceback (most recent call last)",
      "\u001b[1;32m~\\AppData\\Local\\Temp\\ipykernel_11564\\1959727317.py\u001b[0m in \u001b[0;36m<module>\u001b[1;34m\u001b[0m\n\u001b[0;32m     14\u001b[0m \u001b[0mlen\u001b[0m\u001b[1;33m(\u001b[0m\u001b[0mtupla\u001b[0m\u001b[1;33m)\u001b[0m\u001b[1;33m\u001b[0m\u001b[1;33m\u001b[0m\u001b[0m\n\u001b[0;32m     15\u001b[0m \u001b[0mprint\u001b[0m\u001b[1;33m(\u001b[0m\u001b[0mtupla\u001b[0m\u001b[1;33m[\u001b[0m\u001b[1;36m2\u001b[0m\u001b[1;33m]\u001b[0m\u001b[1;33m)\u001b[0m\u001b[1;33m\u001b[0m\u001b[1;33m\u001b[0m\u001b[0m\n\u001b[1;32m---> 16\u001b[1;33m \u001b[0mtupla3\u001b[0m\u001b[1;33m=\u001b[0m\u001b[0mtupla\u001b[0m\u001b[1;33m+\u001b[0m\u001b[0mtupla2\u001b[0m\u001b[1;33m\u001b[0m\u001b[1;33m\u001b[0m\u001b[0m\n\u001b[0m\u001b[0;32m     17\u001b[0m \u001b[0mprint\u001b[0m\u001b[1;33m(\u001b[0m\u001b[0mtupla3\u001b[0m\u001b[1;33m)\u001b[0m\u001b[1;33m\u001b[0m\u001b[1;33m\u001b[0m\u001b[0m\n\u001b[0;32m     18\u001b[0m \u001b[1;32mdel\u001b[0m\u001b[1;33m(\u001b[0m\u001b[0mtupla\u001b[0m\u001b[1;33m[\u001b[0m\u001b[1;36m1\u001b[0m\u001b[1;33m]\u001b[0m\u001b[1;33m)\u001b[0m\u001b[1;33m\u001b[0m\u001b[1;33m\u001b[0m\u001b[0m\n",
      "\u001b[1;31mTypeError\u001b[0m: can only concatenate tuple (not \"float\") to tuple"
     ]
    }
   ],
   "source": [
    "## Ejercicio 6\n",
    "## 1. Crea una tupla con 3 elementos\n",
    "## 2. Crea otra tupla con un elemento y comprueba su tipo\n",
    "## 3. Crea una tupla con elementos de diferentes tipos\n",
    "## 4. Imprime por pantalla el primer y ultimo elemento de la tupla del apartado 3. Usa `len` para el ultimo\n",
    "## 5. Añade un elemento a la tupla del apartado 3.\n",
    "## 6. Eliminar un elemento de la tupla del apartado 5, que se encuentre más o menos en la mitad.\n",
    "## 7. Convierte la tupla del apartado 5 en una lista\n",
    "\n",
    "tupla=(\"patata\", 3, \"coche marron\")\n",
    "tupla2=3.5\n",
    "print(\"el tipo de  la tupla 2 es\",type(tupla2))\n",
    "print(tupla[0])\n",
    "len(tupla)\n",
    "print(tupla[2])\n",
    "tupla3=tupla+tupla2\n",
    "print(tupla3)\n",
    "del(tupla[1])\n",
    "\n"
   ]
  },
  {
   "cell_type": "code",
   "execution_count": 69,
   "metadata": {},
   "outputs": [
    {
     "name": "stdout",
     "output_type": "stream",
     "text": [
      "cien cañones por banda\n",
      ".join(ejer_7)\n"
     ]
    }
   ],
   "source": [
    "## Ejercicio 7\n",
    "#Concatena todos los elementos de la tupla en un unico string. Para ello utiliza el metodo `.join()` de los Strings\n",
    "#> ```ejer_7 = (\"cien\", \"cañones\", \"por\", \"banda\")```\n",
    "\n",
    "#Resultado: `cien cañones por banda`\n",
    "ejer_7 = (\"cien\", \"cañones\", \"por\", \"banda\")\n",
    "ejer_8= ejer_7[0] +\" \"+ejer_7[1] +\" \" +ejer_7[2] +\" \" +ejer_7[3] \n",
    "print(ejer_8)\n",
    "\n",
    "#alternativa\n",
    "print(\".join(ejer_7)\")"
   ]
  },
  {
   "cell_type": "code",
   "execution_count": 73,
   "metadata": {},
   "outputs": [
    {
     "name": "stdout",
     "output_type": "stream",
     "text": [
      "3\n",
      "90\n"
     ]
    }
   ],
   "source": [
    "## Ejercicio 8\n",
    "#Obten el tercer elemento de la siguiente tupla, y el tercero empezando por la cola\n",
    "#> ```ejer_8 = (3, 20, 3, 47, 19, 3, 29, 45, 67, 78, 90, 3, 3)```\n",
    "ejer_8 = (3, 20, 3, 47, 19, 3, 29, 45, 67, 78, 90, 3, 3)\n",
    "print(ejer_8[2])\n",
    "len(ejer_8)\n",
    "print(ejer_8[-3])"
   ]
  },
  {
   "cell_type": "code",
   "execution_count": 78,
   "metadata": {},
   "outputs": [
    {
     "name": "stdout",
     "output_type": "stream",
     "text": [
      "7\n"
     ]
    },
    {
     "data": {
      "text/plain": [
       "26"
      ]
     },
     "execution_count": 78,
     "metadata": {},
     "output_type": "execute_result"
    }
   ],
   "source": [
    "## Ejercicio 9\n",
    "#1. ¿Cuántas veces se repite el 3 en la siguiente tupla?\n",
    "#2. Crea una tupla nueva con los elementos desde la posicion 5 a la 10.\n",
    "#3. ¿Cuántos elementos tiene la tupla `ejer_9`?\n",
    "#> ```ejer_9 = (3, 20, 3, 47, 19, 3, 29, 45, 67, 78, 90, 3, 3, 5, 2, 4, 7, 9, 4, 2, 4, 3, 3, 4, 6, 7)```\n",
    "\n",
    "ejer_9 = (3, 20, 3, 47, 19, 3, 29, 45, 67, 78, 90, 3, 3, 5, 2, 4, 7, 9, 4, 2, 4, 3, 3, 4, 6, 7)\n",
    "print(ejer_9.count(3))\n",
    "print(max(ejer_9))\n",
    "len(ejer_9)"
   ]
  },
  {
   "cell_type": "code",
   "execution_count": 81,
   "metadata": {},
   "outputs": [
    {
     "data": {
      "text/plain": [
       "False"
      ]
     },
     "execution_count": 81,
     "metadata": {},
     "output_type": "execute_result"
    }
   ],
   "source": [
    "## Ejercicio 10\n",
    "    #Comprueba si el numero 60 esta en la tupla del ejercicio 9\n",
    "60 in ejer_9"
   ]
  },
  {
   "cell_type": "code",
   "execution_count": 82,
   "metadata": {},
   "outputs": [
    {
     "ename": "NameError",
     "evalue": "name 'Ejercicio11' is not defined",
     "output_type": "error",
     "traceback": [
      "\u001b[1;31m---------------------------------------------------------------------------\u001b[0m",
      "\u001b[1;31mNameError\u001b[0m                                 Traceback (most recent call last)",
      "\u001b[1;32m~\\AppData\\Local\\Temp\\ipykernel_11564\\3052371285.py\u001b[0m in \u001b[0;36m<module>\u001b[1;34m\u001b[0m\n\u001b[1;32m----> 1\u001b[1;33m \u001b[0mEjercicio11\u001b[0m\u001b[1;33m\u001b[0m\u001b[1;33m\u001b[0m\u001b[0m\n\u001b[0m\u001b[0;32m      2\u001b[0m \u001b[1;31m#1. Convierte la tupla del apartado 10 en una lista\u001b[0m\u001b[1;33m\u001b[0m\u001b[1;33m\u001b[0m\u001b[1;33m\u001b[0m\u001b[0m\n\u001b[0;32m      3\u001b[0m \u001b[1;31m#2. Convierte la tupla del apartado 10 en un set\u001b[0m\u001b[1;33m\u001b[0m\u001b[1;33m\u001b[0m\u001b[1;33m\u001b[0m\u001b[0m\n\u001b[0;32m      4\u001b[0m \u001b[1;31m#3. Convierte la tupla del apartado 10 en un diccionario. Usa también los indices\u001b[0m\u001b[1;33m\u001b[0m\u001b[1;33m\u001b[0m\u001b[1;33m\u001b[0m\u001b[0m\n",
      "\u001b[1;31mNameError\u001b[0m: name 'Ejercicio11' is not defined"
     ]
    }
   ],
   "source": [
    "Ejercicio11\n",
    "#1. Convierte la tupla del apartado 10 en una lista\n",
    "\n",
    "print(list(ejer_9))\n",
    "#2. Convierte la tupla del apartado 10 en un set\n",
    "print(set(ejer_9))\n",
    "#3. Convierte la tupla del apartado 10 en un diccionario. Usa también los indices\n",
    "\n"
   ]
  },
  {
   "cell_type": "code",
   "execution_count": null,
   "metadata": {},
   "outputs": [],
   "source": []
  }
 ],
 "metadata": {
  "kernelspec": {
   "display_name": "Python 3",
   "language": "python",
   "name": "python3"
  },
  "language_info": {
   "codemirror_mode": {
    "name": "ipython",
    "version": 3
   },
   "file_extension": ".py",
   "mimetype": "text/x-python",
   "name": "python",
   "nbconvert_exporter": "python",
   "pygments_lexer": "ipython3",
   "version": "3.7.4"
  },
  "orig_nbformat": 4,
  "vscode": {
   "interpreter": {
    "hash": "ff2d34205aa0849cd3b139157d5140cc644c0bcb46004f4f01e887e021367b2a"
   }
  }
 },
 "nbformat": 4,
 "nbformat_minor": 2
}
