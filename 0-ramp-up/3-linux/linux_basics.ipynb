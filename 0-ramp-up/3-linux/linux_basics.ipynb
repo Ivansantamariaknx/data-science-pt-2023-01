{
  "cells": [
    {
      "cell_type": "markdown",
      "metadata": {
        "id": "Y2ABqptaL8F_"
      },
      "source": [
        "# Comandos Shell en IPython"
      ]
    },
    {
      "cell_type": "markdown",
      "metadata": {
        "id": "MIbfrVhgL8GA"
      },
      "source": [
        "Cuando se trabaja de forma interactiva con el intérprete estándar de Python, una de las frustraciones es la necesidad de cambiar entre varias ventanas para acceder a las herramientas de Python y las herramientas de línea de comandos del sistema. IPython cierra esta brecha y le brinda una sintaxis para ejecutar comandos de shell directamente desde la terminal de IPython. Los comandos Magic se preceden del signo de exclamación (%) y ademas, cualquier cosa que aparezca después de un signo de exclamacion (!) en una línea no será ejecutada por el kernel de Python, sino por la línea de comandos del sistema.\n",
        "\n",
        "Lo siguiente asume que estás en un sistema similar a Unix, como Linux o Mac OSX. Algunos de los ejemplos que siguen fallarán en Windows, que usa un tipo diferente de shell de forma predeterminada."
      ]
    },
    {
      "cell_type": "markdown",
      "metadata": {
        "id": "gcQTLvKoL8GA"
      },
      "source": [
        "## Introduccion a la Shell\n",
        "\n",
        "Una introducción completa al uso del shell/terminal/línea de comandos está mucho más allá del alcance de este notebook, pero para los no iniciados ofreceremos una introducción rápida aquí. El consola es una forma de interactuar textualmente con su computadora. Desde mediados de la década de 1980, cuando Microsoft y Apple introdujeron las primeras versiones de sus ahora ubicuos sistemas operativos gráficos, la mayoría de los usuarios de computadoras han interactuado con su sistema operativo a través de menús familiares y movimientos de arrastrar y soltar. Pero los sistemas operativos existían mucho antes de estas interfaces gráficas de usuario y se controlaban principalmente a través de secuencias de entrada de texto: en la consola, el usuario tecleaba un comando y la computadora hacía lo que el usuario le decía. Esos primeros sistemas de shell son los precursores de los shells y terminales que la mayoría de los científicos de datos activos todavía usan en la actualidad.\n",
        "\n",
        "Alguien que no esté familiarizado con el shell podría preguntarle por qué se molestaría con esto, cuando se pueden lograr muchos resultados simplemente haciendo clic en los íconos y menús. Un usuario de shell podría responder con otra pregunta: ¿por qué buscar íconos y hacer clic en menús cuando puede lograr cosas mucho más fácilmente escribiendo? Si bien puede sonar como un callejón sin salida típico de preferencia tecnológica, cuando se va más allá de las tareas básicas, rápidamente queda claro que el shell ofrece mucho más control de las tareas avanzadas, aunque es cierto que la curva de aprendizaje puede intimidar al usuario promedio de computadoras.\n",
        "\n",
        "Como ejemplo, aquí hay una muestra de una sesión de shell de Linux/OSX donde un usuario explora, crea y modifica directorios y archivos en su sistema ( osx:~ $es el indicador, y todo lo que sigue al $signo es el comando escrito; texto precedido por a #se entiende solo como una descripción, en lugar de algo que realmente escribiría):\n"
      ]
    },
    {
      "cell_type": "markdown",
      "metadata": {},
      "source": [
        "```bash\n",
        "osx:~ $ echo \"hello world\"             # echo es una funcion para escribir\n",
        "hello world\n",
        "```"
      ]
    },
    {
      "cell_type": "code",
      "execution_count": 1,
      "metadata": {},
      "outputs": [
        {
          "name": "stdout",
          "output_type": "stream",
          "text": [
            "hello world\n"
          ]
        }
      ],
      "source": [
        "! echo \"hello world\""
      ]
    },
    {
      "cell_type": "markdown",
      "metadata": {},
      "source": [
        "```bash\n",
        "osx:~ $ pwd                            # pwd = imprime el directorio actual\n",
        "/home/jake                             # este es el \"path\" donde nos encontramos\n",
        "```"
      ]
    },
    {
      "cell_type": "code",
      "execution_count": 2,
      "metadata": {},
      "outputs": [
        {
          "name": "stdout",
          "output_type": "stream",
          "text": [
            "/home/gustavo/projects/data-science-pt-2023-01/0-ramp-up/3-linux\n"
          ]
        }
      ],
      "source": [
        "! pwd                            # pwd = imprime el directorio actual"
      ]
    },
    {
      "cell_type": "markdown",
      "metadata": {},
      "source": [
        "```bash\n",
        "osx:~ $ ls -lsh   # ls = lista los archivos que hay dentro del directorio actual\n",
        "- notebooks  \n",
        "- projects \n",
        "```"
      ]
    },
    {
      "cell_type": "code",
      "execution_count": 7,
      "metadata": {},
      "outputs": [
        {
          "name": "stdout",
          "output_type": "stream",
          "text": [
            "total 12K\n",
            "12K -rw-rw-r-- 1 gustavo gustavo 11K feb  1 15:11 01_05_IPython_And_Shell_Commands.ipynb\n"
          ]
        }
      ],
      "source": [
        "! ls -lsh"
      ]
    },
    {
      "cell_type": "markdown",
      "metadata": {},
      "source": [
        "```bash\n",
        "osx:~ $ cd projects/                   # cd = cambia el directorio\n",
        "```"
      ]
    },
    {
      "cell_type": "code",
      "execution_count": 17,
      "metadata": {},
      "outputs": [],
      "source": [
        "! cd ../"
      ]
    },
    {
      "cell_type": "markdown",
      "metadata": {},
      "source": [
        "```bash\n",
        "osx:projects $ pwd\n",
        "/home/jake/projects\n",
        "```"
      ]
    },
    {
      "cell_type": "code",
      "execution_count": 18,
      "metadata": {},
      "outputs": [
        {
          "name": "stdout",
          "output_type": "stream",
          "text": [
            "/home/gustavo/projects/data-science-pt-2023-01/0-ramp-up/3-linux\n"
          ]
        }
      ],
      "source": [
        "! pwd"
      ]
    },
    {
      "cell_type": "markdown",
      "metadata": {},
      "source": [
        "```bash\n",
        "osx:projects $ ls -lsh\n",
        "- datasci_book   \n",
        "- mpld3   \n",
        "- myproject.txt\n",
        "```"
      ]
    },
    {
      "cell_type": "code",
      "execution_count": 13,
      "metadata": {},
      "outputs": [
        {
          "name": "stdout",
          "output_type": "stream",
          "text": [
            "total 12K\n",
            "12K -rw-rw-r-- 1 gustavo gustavo 11K feb  1 15:11 01_05_IPython_And_Shell_Commands.ipynb\n"
          ]
        }
      ],
      "source": [
        "! ls -lsh"
      ]
    },
    {
      "cell_type": "markdown",
      "metadata": {},
      "source": [
        "```bash\n",
        "osx:projects $ mkdir myproject          # mkdir = crea un nuevo directorio\n",
        "```\n",
        "\n",
        "```bash\n",
        "osx:projects $ cd myproject/\n",
        "```\n",
        "\n",
        "```bash\n",
        "osx:myproject $ mv ../myproject.txt ./  # mv = mueve archivos. Aqui vamos a mover\n",
        "                                        # myproject.txt desde un directorio de arriba\n",
        "                                        # (../) al directorio actual (./)\n",
        "```\n",
        "\n",
        "```bash\n",
        "osx:myproject $ ls\n",
        "myproject.txt\n",
        "```"
      ]
    },
    {
      "cell_type": "markdown",
      "metadata": {},
      "source": [
        "Tenga en cuenta que todo esto es solo una forma compacta de realizar operaciones familiares (navegar por una estructura de directorios, crear un directorio, mover un archivo, etc.) escribiendo comandos en lugar de hacer clic en iconos y menús. Tenga en cuenta que con solo unos pocos comandos ( pwd, ls, cd, mkdir y cp) puede realizar muchas de las operaciones de archivo más comunes. Es cuando va más allá de estos conceptos básicos que el enfoque de shell se vuelve realmente poderoso."
      ]
    },
    {
      "cell_type": "markdown",
      "metadata": {
        "id": "obR4fzpqL8GC"
      },
      "source": [
        "## Pasando valores a y desde la Shell\n",
        "\n",
        "Los comandos de shell no solo se pueden llamar desde IPython, sino que también se pueden hacer para interactuar con el espacio de nombres de IPython. Por ejemplo, puede guardar la salida de cualquier comando de shell en una lista de Python usando el operador de asignación:\n",
        "\n",
        "```ipython\n",
        "In [4]: contents = !ls\n",
        "\n",
        "In [5]: print(contents)\n",
        "['myproject.txt']\n",
        "\n",
        "In [6]: directory = !pwd\n",
        "\n",
        "In [7]: print(directory)\n",
        "['/Users/jakevdp/notebooks/tmp/myproject']\n",
        "```\n",
        "\n",
        "Tenga en cuenta que estos resultados no se devuelven como listas, sino como un tipo de devolución de shell especial definido en IPython:\n",
        "\n",
        "```ipython\n",
        "In [8]: type(directory)\n",
        "IPython.utils.text.SList\n",
        "```\n",
        "\n",
        "Esto se ve y actúa como una lista de Python, pero tiene funciones adicionales, como los métodos y y las greppropiedades , y que le permiten buscar, filtrar y mostrar los resultados de manera conveniente. Para obtener más información sobre estos, puede utilizar las funciones de ayuda integradas de IPython."
      ]
    },
    {
      "cell_type": "markdown",
      "metadata": {
        "id": "L9RBaMMuL8GD"
      },
      "source": [
        "La comunicación en la otra dirección, pasando variables de Python al shell, es posible usando la {varname}sintaxis:\n",
        "\n",
        "```ipython\n",
        "In [9]: message = \"hello from Python\"\n",
        "\n",
        "In [10]: !echo {message}\n",
        "hello from Python\n",
        "```\n",
        "\n",
        "Las llaves contienen el nombre de la variable, que se reemplaza por el contenido de la variable en el comando de shell."
      ]
    },
    {
      "cell_type": "markdown",
      "metadata": {
        "id": "RcIbjhySL8GD"
      },
      "source": [
        "# Comandos Magic relacionados con la Shell\n",
        "\n",
        "Si juega con los comandos de shell de IPython por un tiempo, es posible que note que no puede usarlos !cdpara navegar por el sistema de archivos:\n",
        "\n",
        "```ipython\n",
        "In [11]: !pwd\n",
        "/home/jake/projects/myproject\n",
        "\n",
        "In [12]: !cd ..\n",
        "\n",
        "In [13]: !pwd\n",
        "/home/jake/projects/myproject\n",
        "```\n",
        "\n",
        "La razón es que los comandos de shell en el cuaderno se ejecutan en un subshell temporal. Si desea cambiar el directorio de trabajo de una manera más duradera, puede usar el %cdcomando mágico:\n",
        "\n",
        "```ipython\n",
        "In [14]: %cd ..\n",
        "/home/jake/projects\n",
        "```\n",
        "\n",
        "De hecho, de forma predeterminada, incluso puede usar esto sin el %signo:\n",
        "\n",
        "```ipython\n",
        "In [15]: cd myproject\n",
        "/home/jake/projects/myproject\n",
        "```\n",
        "\n",
        "Esto se conoce como una automagicfunción, y este comportamiento se puede alternar con la %automagicfunción mágica.\n",
        "\n",
        "Además %cdde , otras funciones mágicas similares a shell disponibles son %cat, %cp, %env, %ls, %man, %mkdir, %more, %mv, %pwd, %rmy %rmdir, cualquiera de las cuales puede usarse sin el %signo si automagicestá activado. Esto hace que casi pueda tratar el indicador de IPython como si fuera un shell normal:\n",
        "\n",
        "```ipython\n",
        "In [16]: mkdir tmp\n",
        "\n",
        "In [17]: ls\n",
        "myproject.txt  tmp/\n",
        "\n",
        "In [18]: cp myproject.txt tmp/\n",
        "\n",
        "In [19]: ls tmp\n",
        "myproject.txt\n",
        "\n",
        "In [20]: rm -r tmp\n",
        "```\n",
        "\n",
        "Este acceso al shell desde la misma ventana de terminal que su sesión de Python significa que hay mucho menos cambio entre el intérprete y el shell mientras escribe su código de Python."
      ]
    }
  ],
  "metadata": {
    "anaconda-cloud": {},
    "colab": {
      "provenance": []
    },
    "kernelspec": {
      "display_name": "Python 3.10.6 64-bit",
      "language": "python",
      "name": "python3"
    },
    "language_info": {
      "codemirror_mode": {
        "name": "ipython",
        "version": 3
      },
      "file_extension": ".py",
      "mimetype": "text/x-python",
      "name": "python",
      "nbconvert_exporter": "python",
      "pygments_lexer": "ipython3",
      "version": "3.10.6"
    },
    "vscode": {
      "interpreter": {
        "hash": "916dbcbb3f70747c44a77c7bcd40155683ae19c65e1c03b4aa3499c5328201f1"
      }
    }
  },
  "nbformat": 4,
  "nbformat_minor": 0
}
